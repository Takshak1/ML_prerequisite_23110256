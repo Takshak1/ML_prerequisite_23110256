{
  "nbformat": 4,
  "nbformat_minor": 0,
  "metadata": {
    "colab": {
      "provenance": [],
      "authorship_tag": "ABX9TyM3dUHB1g5K/zHuzBvFoH8W",
      "include_colab_link": true
    },
    "kernelspec": {
      "name": "python3",
      "display_name": "Python 3"
    },
    "language_info": {
      "name": "python"
    }
  },
  "cells": [
    {
      "cell_type": "markdown",
      "metadata": {
        "id": "view-in-github",
        "colab_type": "text"
      },
      "source": [
        "<a href=\"https://colab.research.google.com/github/Takshak1/ML_prerequisite_23110256/blob/main/ML_prerequisite_test_23110256.ipynb\" target=\"_parent\"><img src=\"https://colab.research.google.com/assets/colab-badge.svg\" alt=\"Open In Colab\"/></a>"
      ]
    },
    {
      "cell_type": "markdown",
      "source": [
        "# Prateek Takshak (23110256) ML prerequisite test"
      ],
      "metadata": {
        "id": "emlPXuW-olEl"
      }
    },
    {
      "cell_type": "markdown",
      "source": [
        "# Question 1\n",
        "\n",
        "So after multiplication there will be N * M elements in the matrix\n",
        "\n",
        "for multiplication = K operations. ==> N * K * M.\n",
        "\n",
        "for addition = K-1 operations. ==> N * (K - 1) * M.\n",
        "\n",
        "so total:\n",
        "N * M * (2K -1).\n"
      ],
      "metadata": {
        "id": "yoSnu_nBFS0m"
      }
    },
    {
      "cell_type": "markdown",
      "source": [
        "# Question 2"
      ],
      "metadata": {
        "id": "Ocew9gC5IR75"
      }
    },
    {
      "cell_type": "code",
      "execution_count": null,
      "metadata": {
        "id": "z21BdNepBMD8",
        "colab": {
          "base_uri": "https://localhost:8080/"
        },
        "outputId": "6e49e0be-8c57-4d4f-93bc-20381546ef7c"
      },
      "outputs": [
        {
          "output_type": "stream",
          "name": "stdout",
          "text": [
            "time taken by list of list is  0.000134sec\n",
            "[[8, 17, 26, 35], [20, 44, 68, 92]]\n"
          ]
        }
      ],
      "source": [
        "import numpy as np\n",
        "import time\n",
        "\n",
        "M1 = [[1,2,3],[4,5,6]]\n",
        "M2 = [[1,3,5,7],[2,4,6,8],[1,2,3,4]]\n",
        "new_M = [[0]* len(M2[0]) for _ in range(len(M1))]\n",
        "start = time.time()\n",
        "for i in range(len(M1)):\n",
        "    for j in range(len(M2[0])):\n",
        "        for k in range(len(M2)):\n",
        "            new_M[i][j] += M1[i][k] * M2[k][j]\n",
        "end = time.time()\n",
        "\n",
        "print(f\"time taken by list of list is {(end - start): .6f}sec\")\n",
        "print(new_M)\n"
      ]
    },
    {
      "cell_type": "code",
      "source": [
        "np_m1 = np.array(M1)\n",
        "np_m2 = np.array(M2)\n",
        "start = time.time()\n",
        "new_mat = np_m1 @ np_m2\n",
        "end = time.time()\n",
        "print(f\"time taken by numpy is {(end - start): .6f}sec\")\n",
        "print(new_mat)\n"
      ],
      "metadata": {
        "colab": {
          "base_uri": "https://localhost:8080/"
        },
        "id": "ukGDfAAAIPFS",
        "outputId": "91d1b9c8-cc53-425b-9205-591d59d8d1b7"
      },
      "execution_count": null,
      "outputs": [
        {
          "output_type": "stream",
          "name": "stdout",
          "text": [
            "time taken by numpy is  0.000092sec\n",
            "[[ 8 17 26 35]\n",
            " [20 44 68 92]]\n"
          ]
        }
      ]
    },
    {
      "cell_type": "markdown",
      "source": [
        "NumPy is faster than the list-of-lists method because it runs its operations in optimized C code, storing data in contiguous memory instead of pointers. This improves cache performance and avoids Pythons slow per-element loops, allowing vectorized operations for much higher speed.\n"
      ],
      "metadata": {
        "id": "pVlPfMR8QHp8"
      }
    },
    {
      "cell_type": "markdown",
      "source": [
        "# Question 3"
      ],
      "metadata": {
        "id": "yrICpTWyUED_"
      }
    },
    {
      "cell_type": "code",
      "source": [
        "def arr_transverse(arr):\n",
        "    temp = arr.copy()\n",
        "    lenght = len(arr)\n",
        "    k = len(temp)//2\n",
        "    for _ in range(k-(0 if (lenght%2==1)else 1)):\n",
        "      val = max(temp)\n",
        "\n",
        "      temp.remove(val)\n",
        "    if(lenght%2 == 1):\n",
        "      return max(temp)\n",
        "    else:\n",
        "      first = max(temp)\n",
        "      temp.remove(first)\n",
        "      second = max(temp)\n",
        "      return (first + second)/2\n",
        "\n",
        "#####\n",
        "def by_sorting(arr):\n",
        "  temp = arr.copy()\n",
        "  temp.sort()\n",
        "  lenght = len(temp)\n",
        "  if(lenght%2 == 0):\n",
        "      return (temp[lenght//2-1] + temp[lenght//2])/2\n",
        "  else:\n",
        "      return temp[lenght//2]\n",
        "\n",
        "arr = list(np.random.rand(1000))\n",
        "start_1 = time.time()\n",
        "print(arr_transverse(arr))\n",
        "end_1 = time.time()\n",
        "print(f\"time taken by arr_transverse is {(end_1 - start_1): .6f}sec\")\n",
        "start_2 = time.time()\n",
        "print(by_sorting(arr))\n",
        "end_2 = time.time()\n",
        "print(f\"time taken by by_sorting is {(end_2 - start_2): .6f}sec\")\n",
        "start_3 = time.time()\n",
        "#####\n",
        "print(np.median(arr))\n",
        "end_3 = time.time()\n",
        "print(f\"time taken by np.median is {(end_3 - start_3): .6f}sec\")\n",
        "\n",
        "\n"
      ],
      "metadata": {
        "colab": {
          "base_uri": "https://localhost:8080/"
        },
        "id": "8jbebMlcUDRB",
        "outputId": "b5f9332d-4d76-44d0-ea30-9c879b6ebac8"
      },
      "execution_count": null,
      "outputs": [
        {
          "output_type": "stream",
          "name": "stdout",
          "text": [
            "0.5115648776042727\n",
            "time taken by arr_transverse is  0.016121sec\n",
            "0.5115648776042727\n",
            "time taken by by_sorting is  0.000364sec\n",
            "0.5115648776042727\n",
            "time taken by np.median is  0.000696sec\n"
          ]
        }
      ]
    },
    {
      "cell_type": "markdown",
      "source": [
        "# Question 4\n"
      ],
      "metadata": {
        "id": "yzwpOh_Ojs-3"
      }
    },
    {
      "cell_type": "markdown",
      "source": [
        "Given :\n",
        "$$\n",
        "f(x,y) = x^2y +y^3sin(x)\n",
        "$$\n",
        "The Gradient is given by\n",
        "$$\n",
        "\\nabla f(x,y) = [2xy+y^3cos(x),x^2+3y^2sin(x)]\n",
        "$$"
      ],
      "metadata": {
        "id": "rcVYryV4ouF5"
      }
    },
    {
      "cell_type": "markdown",
      "source": [
        "# Question 5"
      ],
      "metadata": {
        "id": "OyOAS_XCq76K"
      }
    },
    {
      "cell_type": "code",
      "source": [
        "import jax\n",
        "import jax.numpy as jnp\n",
        "def fun(x,y):\n",
        "    return (x**2)*y + (y**3)*(jnp.sin(x))\n",
        "grad_f = jax.grad(fun,argnums=(0,1))\n",
        "del_x,del_y = grad_f(1.,1.)\n",
        "print(del_x,del_y)\n",
        "\n",
        "\n"
      ],
      "metadata": {
        "colab": {
          "base_uri": "https://localhost:8080/"
        },
        "id": "o7Sksgk5jw01",
        "outputId": "d1108db1-5185-46eb-a3bd-a96e0fcb9c34"
      },
      "execution_count": null,
      "outputs": [
        {
          "output_type": "stream",
          "name": "stdout",
          "text": [
            "2.5403023 3.5244129\n"
          ]
        }
      ]
    },
    {
      "cell_type": "markdown",
      "source": [
        "# Question 6\n"
      ],
      "metadata": {
        "id": "QZjTAMnUq5ea"
      }
    },
    {
      "cell_type": "code",
      "source": [
        "import sympy as sp\n",
        "x,y = sp.symbols('x y')\n",
        "f = x**2*y + y**3*sp.sin(x)\n",
        "grad_x = sp.diff(f,x)\n",
        "grad_y = sp.diff(f,y)\n",
        "grad_x_val = grad_x.subs({x:1., y:1.})\n",
        "grad_y_val = grad_y.subs({x:1., y:1.})\n",
        "print(f\"Gradient is [{grad_x}, {grad_y}] using sympy\")\n",
        "print(f\"Gradient at (1., 1.): [{grad_x_val}, {grad_y_val}]\")\n"
      ],
      "metadata": {
        "colab": {
          "base_uri": "https://localhost:8080/"
        },
        "id": "bdwZ2LOPum2F",
        "outputId": "325f1086-c7f7-4f02-cb51-f28f38386ad9"
      },
      "execution_count": null,
      "outputs": [
        {
          "output_type": "stream",
          "name": "stdout",
          "text": [
            "Gradient is [2*x*y + y**3*cos(x), x**2 + 3*y**2*sin(x)] using sympy\n",
            "Gradient at (1., 1.): [2.54030230586814, 3.52441295442369]\n"
          ]
        }
      ]
    },
    {
      "cell_type": "markdown",
      "source": [
        "# Question 7\n"
      ],
      "metadata": {
        "id": "f9BrLdMayv1m"
      }
    },
    {
      "cell_type": "code",
      "source": [
        "record = {\n",
        "    2022:{\n",
        "        \"Branch 1\":{\n",
        "            1:{\n",
        "                \"name\":\"alex\",\n",
        "                \"marks\":{\n",
        "                    \"english\": 70,\n",
        "                    \"maths\": 100,\n",
        "                }\n",
        "            },\n",
        "            2:{\n",
        "                \"name\":\"bob\",\n",
        "                \"marks\":{\n",
        "                    \"english\": 100,\n",
        "                    \"maths\": 90,\n",
        "                }\n",
        "            }\n",
        "\n",
        "\n",
        "        },\n",
        "        \"Branch 2\":{\n",
        "\n",
        "        }\n",
        "    },\n",
        "    2023:{\n",
        "        \"Branch 1\":{\n",
        "\n",
        "        },\n",
        "        \"Branch 2\":{\n",
        "\n",
        "        }\n",
        "    },\n",
        "    2024:{\n",
        "        \"Branch 1\":{\n",
        "\n",
        "        },\n",
        "        \"Branch 2\":{\n",
        "\n",
        "        }\n",
        "    },\n",
        "    2025:{\n",
        "        \"Branch 1\":{\n",
        "\n",
        "        },\n",
        "        \"Branch 2\":{\n",
        "\n",
        "        }\n",
        "    },\n",
        "\n",
        "}\n",
        "print(record)"
      ],
      "metadata": {
        "colab": {
          "base_uri": "https://localhost:8080/"
        },
        "id": "SMwbEYbDy0Hd",
        "outputId": "fa328ca0-cb66-4744-c241-acb34f203633"
      },
      "execution_count": null,
      "outputs": [
        {
          "output_type": "stream",
          "name": "stdout",
          "text": [
            "{2022: {'Branch 1': {1: {'name': 'alex', 'marks': {'english': 70, 'maths': 100}}, 2: {'name': 'bob', 'marks': {'english': 100, 'maths': 90}}}, 'Branch 2': {}}, 2023: {'Branch 1': {}, 'Branch 2': {}}, 2024: {'Branch 1': {}, 'Branch 2': {}}, 2025: {'Branch 1': {}, 'Branch 2': {}}}\n"
          ]
        }
      ]
    },
    {
      "cell_type": "markdown",
      "source": [
        "# Question 8\n"
      ],
      "metadata": {
        "id": "fQ4n71ZFOtkA"
      }
    },
    {
      "cell_type": "code",
      "source": [
        "class Marks:\n",
        "    def __init__(self, maths, english):\n",
        "        self.maths = maths\n",
        "        self.english = english\n",
        "    def __repr__(self):\n",
        "        return f\"{{'Maths': {self.maths}, 'English': {self.english}}}\"\n",
        "\n",
        "\n",
        "class Student:\n",
        "    def __init__(self, roll_number, name, marks):\n",
        "        self.roll_number = roll_number\n",
        "        self.name = name\n",
        "        self.marks = marks\n",
        "    def __repr__(self):\n",
        "        return f\"{{'Roll Number': {self.roll_number}, 'Name': '{self.name}', 'Marks': {self.marks}}}\"\n",
        "\n",
        "\n",
        "class Branch:\n",
        "    def __init__(self):\n",
        "        self.students = []\n",
        "    def add_student(self, student):\n",
        "        self.students.append(student)\n",
        "    def __repr__(self):\n",
        "        return f\"{self.students}\"\n",
        "\n",
        "class YearRecord:\n",
        "    def __init__(self):\n",
        "        self.branches = {\"Branch1\": Branch(), \"Branch2\": Branch()}\n",
        "    def add_student_to_branch(self, branch_name, student):\n",
        "        self.branches[branch_name].add_student(student)\n",
        "    def __repr__(self):\n",
        "        return f\"{self.branches}\"\n",
        "\n",
        "\n",
        "class AcademicRecord:\n",
        "    def __init__(self):\n",
        "        self.records = {}\n",
        "    def add_year(self, year):\n",
        "        self.records[year] = YearRecord()\n",
        "    def add_student(self, year, branch, student):\n",
        "        if year not in self.records:\n",
        "            self.add_year(year)\n",
        "        self.records[year].add_student_to_branch(branch, student)\n",
        "    def __repr__(self):\n",
        "        return f\"{self.records}\"\n",
        "\n",
        "record = AcademicRecord()\n",
        "\n",
        "for year in range(2022, 2026):\n",
        "    for branch in [\"Branch1\", \"Branch2\"]:\n",
        "        student1 = Student(1, \"Alex\", Marks(100, 70))\n",
        "        student2 = Student(2, \"Bob\", Marks(100, 70))\n",
        "        record.add_student(year, branch, student1)\n",
        "        record.add_student(year, branch, student2)\n",
        "\n",
        "print(record)\n"
      ],
      "metadata": {
        "colab": {
          "base_uri": "https://localhost:8080/"
        },
        "id": "cVj7vUb5OwVa",
        "outputId": "114af18a-9988-44f6-a3b0-e25718bb5f1a"
      },
      "execution_count": null,
      "outputs": [
        {
          "output_type": "stream",
          "name": "stdout",
          "text": [
            "{2022: {'Branch1': [{'Roll Number': 1, 'Name': 'Alex', 'Marks': {'Maths': 100, 'English': 70}}, {'Roll Number': 2, 'Name': 'Bob', 'Marks': {'Maths': 100, 'English': 70}}], 'Branch2': [{'Roll Number': 1, 'Name': 'Alex', 'Marks': {'Maths': 100, 'English': 70}}, {'Roll Number': 2, 'Name': 'Bob', 'Marks': {'Maths': 100, 'English': 70}}]}, 2023: {'Branch1': [{'Roll Number': 1, 'Name': 'Alex', 'Marks': {'Maths': 100, 'English': 70}}, {'Roll Number': 2, 'Name': 'Bob', 'Marks': {'Maths': 100, 'English': 70}}], 'Branch2': [{'Roll Number': 1, 'Name': 'Alex', 'Marks': {'Maths': 100, 'English': 70}}, {'Roll Number': 2, 'Name': 'Bob', 'Marks': {'Maths': 100, 'English': 70}}]}, 2024: {'Branch1': [{'Roll Number': 1, 'Name': 'Alex', 'Marks': {'Maths': 100, 'English': 70}}, {'Roll Number': 2, 'Name': 'Bob', 'Marks': {'Maths': 100, 'English': 70}}], 'Branch2': [{'Roll Number': 1, 'Name': 'Alex', 'Marks': {'Maths': 100, 'English': 70}}, {'Roll Number': 2, 'Name': 'Bob', 'Marks': {'Maths': 100, 'English': 70}}]}, 2025: {'Branch1': [{'Roll Number': 1, 'Name': 'Alex', 'Marks': {'Maths': 100, 'English': 70}}, {'Roll Number': 2, 'Name': 'Bob', 'Marks': {'Maths': 100, 'English': 70}}], 'Branch2': [{'Roll Number': 1, 'Name': 'Alex', 'Marks': {'Maths': 100, 'English': 70}}, {'Roll Number': 2, 'Name': 'Bob', 'Marks': {'Maths': 100, 'English': 70}}]}}\n"
          ]
        }
      ]
    },
    {
      "cell_type": "markdown",
      "source": [
        "# Question 9"
      ],
      "metadata": {
        "id": "xefYSAm5UPt8"
      }
    },
    {
      "cell_type": "code",
      "source": [
        "import matplotlib.pyplot as plt\n",
        "import numpy as np\n",
        "x = np.arange(.5,100.5,.5)\n",
        "def plotting_fun(x,y,label):\n",
        "  plt.plot(x,y)\n",
        "  plt.xlabel(\"x\")\n",
        "  plt.ylabel(label)\n",
        "\n",
        "plt.figure(figsize=(12,10))\n",
        "plt.subplot(3,3,1)\n",
        "plotting_fun(x,x,\"\")\n",
        "plt.subplot(3,3,2)\n",
        "plotting_fun(x,x**2,\"x**2\")\n",
        "plt.subplot(3,3,3)\n",
        "plotting_fun(x,(x**3)/100,\"(x**3)/100\")\n",
        "plt.subplot(3,3,4)\n",
        "plotting_fun(x,np.sin(x),\"sin(x)\")\n",
        "plt.subplot(3,3,5)\n",
        "plotting_fun(x,(np.sin(x))/x,\"sin(x)/x\")\n",
        "plt.subplot(3,3,6)\n",
        "plotting_fun(x,np.log(x),\"log(x)\")\n",
        "plt.subplot(3,3,7)\n",
        "plotting_fun(x,np.exp(x),\"e^x\")\n",
        "plt.tight_layout()\n",
        "plt.show()\n"
      ],
      "metadata": {
        "colab": {
          "base_uri": "https://localhost:8080/",
          "height": 1000
        },
        "id": "4yNpWVJ8UPS-",
        "outputId": "fca42890-2409-476c-bf52-ae16ace8dd45"
      },
      "execution_count": null,
      "outputs": [
        {
          "output_type": "display_data",
          "data": {
            "text/plain": [
              "<Figure size 1200x1000 with 7 Axes>"
            ],
            "image/png": "[encoded data removed]"
          },
          "metadata": {}
        }
      ]
    },
    {
      "cell_type": "markdown",
      "source": [
        "# Question 10\n"
      ],
      "metadata": {
        "id": "5Vch0DgUXsrt"
      }
    },
    {
      "cell_type": "code",
      "source": [
        "matrix = np.random.uniform(1,2,(20,5))\n",
        "matrix"
      ],
      "metadata": {
        "colab": {
          "base_uri": "https://localhost:8080/"
        },
        "id": "5Z-k9_JVXvLT",
        "outputId": "29f26593-63c4-4967-ed86-90cfecdb0df5"
      },
      "execution_count": null,
      "outputs": [
        {
          "output_type": "execute_result",
          "data": {
            "text/plain": [
              "array([[1.60640405, 1.8863502 , 1.28621509, 1.94873842, 1.88505723],\n",
              "       [1.26183477, 1.48952248, 1.92614639, 1.87347319, 1.46861749],\n",
              "       [1.01285339, 1.00643276, 1.99834109, 1.57125126, 1.80724994],\n",
              "       [1.41387332, 1.50217624, 1.85219682, 1.11733217, 1.58505318],\n",
              "       [1.79420029, 1.9717637 , 1.45862214, 1.41350381, 1.07653523],\n",
              "       [1.59227238, 1.70026268, 1.45963163, 1.00301371, 1.82041388],\n",
              "       [1.18741603, 1.45151209, 1.37796787, 1.00518192, 1.67933683],\n",
              "       [1.36904712, 1.50419729, 1.76878791, 1.48406264, 1.23694161],\n",
              "       [1.99456051, 1.47549795, 1.00297304, 1.05455595, 1.42925103],\n",
              "       [1.85784837, 1.41234813, 1.28011991, 1.86030794, 1.89965883],\n",
              "       [1.0127564 , 1.92484959, 1.15967415, 1.49893908, 1.43329874],\n",
              "       [1.05003478, 1.2793752 , 1.48537907, 1.7729596 , 1.88035328],\n",
              "       [1.68516246, 1.20881828, 1.13857472, 1.39218533, 1.93898654],\n",
              "       [1.22715586, 1.51598158, 1.50405389, 1.03362518, 1.01192579],\n",
              "       [1.59592374, 1.98685558, 1.85981088, 1.75785241, 1.53186612],\n",
              "       [1.41498345, 1.47258626, 1.38049521, 1.85515982, 1.62495157],\n",
              "       [1.91558081, 1.48726019, 1.15075735, 1.8255835 , 1.56963063],\n",
              "       [1.06539455, 1.8720007 , 1.02617042, 1.83587389, 1.29449629],\n",
              "       [1.14370365, 1.95435398, 1.87645611, 1.64488208, 1.65451906],\n",
              "       [1.94086327, 1.96506332, 1.32912383, 1.15464385, 1.65989087]])"
            ]
          },
          "metadata": {},
          "execution_count": 21
        }
      ]
    },
    {
      "cell_type": "code",
      "source": [
        "import pandas as pd\n",
        "data_matrix = pd.DataFrame(matrix,columns=['a','b','c','d','e'])\n",
        "data_matrix"
      ],
      "metadata": {
        "colab": {
          "base_uri": "https://localhost:8080/",
          "height": 677
        },
        "id": "pVT7i_cIYlOQ",
        "outputId": "ec40b589-fafb-4ce7-a320-8e0c85c78e06"
      },
      "execution_count": null,
      "outputs": [
        {
          "output_type": "execute_result",
          "data": {
            "text/plain": [
              "           a         b         c         d         e\n",
              "0   1.606404  1.886350  1.286215  1.948738  1.885057\n",
              "1   1.261835  1.489522  1.926146  1.873473  1.468617\n",
              "2   1.012853  1.006433  1.998341  1.571251  1.807250\n",
              "3   1.413873  1.502176  1.852197  1.117332  1.585053\n",
              "4   1.794200  1.971764  1.458622  1.413504  1.076535\n",
              "5   1.592272  1.700263  1.459632  1.003014  1.820414\n",
              "6   1.187416  1.451512  1.377968  1.005182  1.679337\n",
              "7   1.369047  1.504197  1.768788  1.484063  1.236942\n",
              "8   1.994561  1.475498  1.002973  1.054556  1.429251\n",
              "9   1.857848  1.412348  1.280120  1.860308  1.899659\n",
              "10  1.012756  1.924850  1.159674  1.498939  1.433299\n",
              "11  1.050035  1.279375  1.485379  1.772960  1.880353\n",
              "12  1.685162  1.208818  1.138575  1.392185  1.938987\n",
              "13  1.227156  1.515982  1.504054  1.033625  1.011926\n",
              "14  1.595924  1.986856  1.859811  1.757852  1.531866\n",
              "15  1.414983  1.472586  1.380495  1.855160  1.624952\n",
              "16  1.915581  1.487260  1.150757  1.825584  1.569631\n",
              "17  1.065395  1.872001  1.026170  1.835874  1.294496\n",
              "18  1.143704  1.954354  1.876456  1.644882  1.654519\n",
              "19  1.940863  1.965063  1.329124  1.154644  1.659891"
            ],
            "text/html": [
              "\n",
              "  <div id=\"df-25739257-331c-4ac3-b84d-7061b92f33c6\" class=\"colab-df-container\">\n",
              "    <div>\n",
              "<style scoped>\n",
              "    .dataframe tbody tr th:only-of-type {\n",
              "        vertical-align: middle;\n",
              "    }\n",
              "\n",
              "    .dataframe tbody tr th {\n",
              "        vertical-align: top;\n",
              "    }\n",
              "\n",
              "    .dataframe thead th {\n",
              "        text-align: right;\n",
              "    }\n",
              "</style>\n",
              "<table border=\"1\" class=\"dataframe\">\n",
              "  <thead>\n",
              "    <tr style=\"text-align: right;\">\n",
              "      <th></th>\n",
              "      <th>a</th>\n",
              "      <th>b</th>\n",
              "      <th>c</th>\n",
              "      <th>d</th>\n",
              "      <th>e</th>\n",
              "    </tr>\n",
              "  </thead>\n",
              "  <tbody>\n",
              "    <tr>\n",
              "      <th>0</th>\n",
              "      <td>1.606404</td>\n",
              "      <td>1.886350</td>\n",
              "      <td>1.286215</td>\n",
              "      <td>1.948738</td>\n",
              "      <td>1.885057</td>\n",
              "    </tr>\n",
              "    <tr>\n",
              "      <th>1</th>\n",
              "      <td>1.261835</td>\n",
              "      <td>1.489522</td>\n",
              "      <td>1.926146</td>\n",
              "      <td>1.873473</td>\n",
              "      <td>1.468617</td>\n",
              "    </tr>\n",
              "    <tr>\n",
              "      <th>2</th>\n",
              "      <td>1.012853</td>\n",
              "      <td>1.006433</td>\n",
              "      <td>1.998341</td>\n",
              "      <td>1.571251</td>\n",
              "      <td>1.807250</td>\n",
              "    </tr>\n",
              "    <tr>\n",
              "      <th>3</th>\n",
              "      <td>1.413873</td>\n",
              "      <td>1.502176</td>\n",
              "      <td>1.852197</td>\n",
              "      <td>1.117332</td>\n",
              "      <td>1.585053</td>\n",
              "    </tr>\n",
              "    <tr>\n",
              "      <th>4</th>\n",
              "      <td>1.794200</td>\n",
              "      <td>1.971764</td>\n",
              "      <td>1.458622</td>\n",
              "      <td>1.413504</td>\n",
              "      <td>1.076535</td>\n",
              "    </tr>\n",
              "    <tr>\n",
              "      <th>5</th>\n",
              "      <td>1.592272</td>\n",
              "      <td>1.700263</td>\n",
              "      <td>1.459632</td>\n",
              "      <td>1.003014</td>\n",
              "      <td>1.820414</td>\n",
              "    </tr>\n",
              "    <tr>\n",
              "      <th>6</th>\n",
              "      <td>1.187416</td>\n",
              "      <td>1.451512</td>\n",
              "      <td>1.377968</td>\n",
              "      <td>1.005182</td>\n",
              "      <td>1.679337</td>\n",
              "    </tr>\n",
              "    <tr>\n",
              "      <th>7</th>\n",
              "      <td>1.369047</td>\n",
              "      <td>1.504197</td>\n",
              "      <td>1.768788</td>\n",
              "      <td>1.484063</td>\n",
              "      <td>1.236942</td>\n",
              "    </tr>\n",
              "    <tr>\n",
              "      <th>8</th>\n",
              "      <td>1.994561</td>\n",
              "      <td>1.475498</td>\n",
              "      <td>1.002973</td>\n",
              "      <td>1.054556</td>\n",
              "      <td>1.429251</td>\n",
              "    </tr>\n",
              "    <tr>\n",
              "      <th>9</th>\n",
              "      <td>1.857848</td>\n",
              "      <td>1.412348</td>\n",
              "      <td>1.280120</td>\n",
              "      <td>1.860308</td>\n",
              "      <td>1.899659</td>\n",
              "    </tr>\n",
              "    <tr>\n",
              "      <th>10</th>\n",
              "      <td>1.012756</td>\n",
              "      <td>1.924850</td>\n",
              "      <td>1.159674</td>\n",
              "      <td>1.498939</td>\n",
              "      <td>1.433299</td>\n",
              "    </tr>\n",
              "    <tr>\n",
              "      <th>11</th>\n",
              "      <td>1.050035</td>\n",
              "      <td>1.279375</td>\n",
              "      <td>1.485379</td>\n",
              "      <td>1.772960</td>\n",
              "      <td>1.880353</td>\n",
              "    </tr>\n",
              "    <tr>\n",
              "      <th>12</th>\n",
              "      <td>1.685162</td>\n",
              "      <td>1.208818</td>\n",
              "      <td>1.138575</td>\n",
              "      <td>1.392185</td>\n",
              "      <td>1.938987</td>\n",
              "    </tr>\n",
              "    <tr>\n",
              "      <th>13</th>\n",
              "      <td>1.227156</td>\n",
              "      <td>1.515982</td>\n",
              "      <td>1.504054</td>\n",
              "      <td>1.033625</td>\n",
              "      <td>1.011926</td>\n",
              "    </tr>\n",
              "    <tr>\n",
              "      <th>14</th>\n",
              "      <td>1.595924</td>\n",
              "      <td>1.986856</td>\n",
              "      <td>1.859811</td>\n",
              "      <td>1.757852</td>\n",
              "      <td>1.531866</td>\n",
              "    </tr>\n",
              "    <tr>\n",
              "      <th>15</th>\n",
              "      <td>1.414983</td>\n",
              "      <td>1.472586</td>\n",
              "      <td>1.380495</td>\n",
              "      <td>1.855160</td>\n",
              "      <td>1.624952</td>\n",
              "    </tr>\n",
              "    <tr>\n",
              "      <th>16</th>\n",
              "      <td>1.915581</td>\n",
              "      <td>1.487260</td>\n",
              "      <td>1.150757</td>\n",
              "      <td>1.825584</td>\n",
              "      <td>1.569631</td>\n",
              "    </tr>\n",
              "    <tr>\n",
              "      <th>17</th>\n",
              "      <td>1.065395</td>\n",
              "      <td>1.872001</td>\n",
              "      <td>1.026170</td>\n",
              "      <td>1.835874</td>\n",
              "      <td>1.294496</td>\n",
              "    </tr>\n",
              "    <tr>\n",
              "      <th>18</th>\n",
              "      <td>1.143704</td>\n",
              "      <td>1.954354</td>\n",
              "      <td>1.876456</td>\n",
              "      <td>1.644882</td>\n",
              "      <td>1.654519</td>\n",
              "    </tr>\n",
              "    <tr>\n",
              "      <th>19</th>\n",
              "      <td>1.940863</td>\n",
              "      <td>1.965063</td>\n",
              "      <td>1.329124</td>\n",
              "      <td>1.154644</td>\n",
              "      <td>1.659891</td>\n",
              "    </tr>\n",
              "  </tbody>\n",
              "</table>\n",
              "</div>\n",
              "    <div class=\"colab-df-buttons\">\n",
              "\n",
              "  <div class=\"colab-df-container\">\n",
              "    <button class=\"colab-df-convert\" onclick=\"convertToInteractive('df-25739257-331c-4ac3-b84d-7061b92f33c6')\"\n",
              "            title=\"Convert this dataframe to an interactive table.\"\n",
              "            style=\"display:none;\">\n",
              "\n",
              "  <svg xmlns=\"http://www.w3.org/2000/svg\" height=\"24px\" viewBox=\"0 -960 960 960\">\n",
              "    <path d=\"M120-120v-720h720v720H120Zm60-500h600v-160H180v160Zm220 220h160v-160H400v160Zm0 220h160v-160H400v160ZM180-400h160v-160H180v160Zm440 0h160v-160H620v160ZM180-180h160v-160H180v160Zm440 0h160v-160H620v160Z\"/>\n",
              "  </svg>\n",
              "    </button>\n",
              "\n",
              "  <style>\n",
              "    .colab-df-container {\n",
              "      display:flex;\n",
              "      gap: 12px;\n",
              "    }\n",
              "\n",
              "    .colab-df-convert {\n",
              "      background-color: #E8F0FE;\n",
              "      border: none;\n",
              "      border-radius: 50%;\n",
              "      cursor: pointer;\n",
              "      display: none;\n",
              "      fill: #1967D2;\n",
              "      height: 32px;\n",
              "      padding: 0 0 0 0;\n",
              "      width: 32px;\n",
              "    }\n",
              "\n",
              "    .colab-df-convert:hover {\n",
              "      background-color: #E2EBFA;\n",
              "      box-shadow: 0px 1px 2px rgba(60, 64, 67, 0.3), 0px 1px 3px 1px rgba(60, 64, 67, 0.15);\n",
              "      fill: #174EA6;\n",
              "    }\n",
              "\n",
              "    .colab-df-buttons div {\n",
              "      margin-bottom: 4px;\n",
              "    }\n",
              "\n",
              "    [theme=dark] .colab-df-convert {\n",
              "      background-color: #3B4455;\n",
              "      fill: #D2E3FC;\n",
              "    }\n",
              "\n",
              "    [theme=dark] .colab-df-convert:hover {\n",
              "      background-color: #434B5C;\n",
              "      box-shadow: 0px 1px 3px 1px rgba(0, 0, 0, 0.15);\n",
              "      filter: drop-shadow(0px 1px 2px rgba(0, 0, 0, 0.3));\n",
              "      fill: #FFFFFF;\n",
              "    }\n",
              "  </style>\n",
              "\n",
              "    <script>\n",
              "      const buttonEl =\n",
              "        document.querySelector('#df-25739257-331c-4ac3-b84d-7061b92f33c6 button.colab-df-convert');\n",
              "      buttonEl.style.display =\n",
              "        google.colab.kernel.accessAllowed ? 'block' : 'none';\n",
              "\n",
              "      async function convertToInteractive(key) {\n",
              "        const element = document.querySelector('#df-25739257-331c-4ac3-b84d-7061b92f33c6');\n",
              "        const dataTable =\n",
              "          await google.colab.kernel.invokeFunction('convertToInteractive',\n",
              "                                                    [key], {});\n",
              "        if (!dataTable) return;\n",
              "\n",
              "        const docLinkHtml = 'Like what you see? Visit the ' +\n",
              "          '<a target=\"_blank\" href=https://colab.research.google.com/notebooks/data_table.ipynb>data table notebook</a>'\n",
              "          + ' to learn more about interactive tables.';\n",
              "        element.innerHTML = '';\n",
              "        dataTable['output_type'] = 'display_data';\n",
              "        await google.colab.output.renderOutput(dataTable, element);\n",
              "        const docLink = document.createElement('div');\n",
              "        docLink.innerHTML = docLinkHtml;\n",
              "        element.appendChild(docLink);\n",
              "      }\n",
              "    </script>\n",
              "  </div>\n",
              "\n",
              "\n",
              "    <div id=\"df-d49e278f-c537-48ac-9bc6-430fa32fdd30\">\n",
              "      <button class=\"colab-df-quickchart\" onclick=\"quickchart('df-d49e278f-c537-48ac-9bc6-430fa32fdd30')\"\n",
              "                title=\"Suggest charts\"\n",
              "                style=\"display:none;\">\n",
              "\n",
              "<svg xmlns=\"http://www.w3.org/2000/svg\" height=\"24px\"viewBox=\"0 0 24 24\"\n",
              "     width=\"24px\">\n",
              "    <g>\n",
              "        <path d=\"M19 3H5c-1.1 0-2 .9-2 2v14c0 1.1.9 2 2 2h14c1.1 0 2-.9 2-2V5c0-1.1-.9-2-2-2zM9 17H7v-7h2v7zm4 0h-2V7h2v10zm4 0h-2v-4h2v4z\"/>\n",
              "    </g>\n",
              "</svg>\n",
              "      </button>\n",
              "\n",
              "<style>\n",
              "  .colab-df-quickchart {\n",
              "      --bg-color: #E8F0FE;\n",
              "      --fill-color: #1967D2;\n",
              "      --hover-bg-color: #E2EBFA;\n",
              "      --hover-fill-color: #174EA6;\n",
              "      --disabled-fill-color: #AAA;\n",
              "      --disabled-bg-color: #DDD;\n",
              "  }\n",
              "\n",
              "  [theme=dark] .colab-df-quickchart {\n",
              "      --bg-color: #3B4455;\n",
              "      --fill-color: #D2E3FC;\n",
              "      --hover-bg-color: #434B5C;\n",
              "      --hover-fill-color: #FFFFFF;\n",
              "      --disabled-bg-color: #3B4455;\n",
              "      --disabled-fill-color: #666;\n",
              "  }\n",
              "\n",
              "  .colab-df-quickchart {\n",
              "    background-color: var(--bg-color);\n",
              "    border: none;\n",
              "    border-radius: 50%;\n",
              "    cursor: pointer;\n",
              "    display: none;\n",
              "    fill: var(--fill-color);\n",
              "    height: 32px;\n",
              "    padding: 0;\n",
              "    width: 32px;\n",
              "  }\n",
              "\n",
              "  .colab-df-quickchart:hover {\n",
              "    background-color: var(--hover-bg-color);\n",
              "    box-shadow: 0 1px 2px rgba(60, 64, 67, 0.3), 0 1px 3px 1px rgba(60, 64, 67, 0.15);\n",
              "    fill: var(--button-hover-fill-color);\n",
              "  }\n",
              "\n",
              "  .colab-df-quickchart-complete:disabled,\n",
              "  .colab-df-quickchart-complete:disabled:hover {\n",
              "    background-color: var(--disabled-bg-color);\n",
              "    fill: var(--disabled-fill-color);\n",
              "    box-shadow: none;\n",
              "  }\n",
              "\n",
              "  .colab-df-spinner {\n",
              "    border: 2px solid var(--fill-color);\n",
              "    border-color: transparent;\n",
              "    border-bottom-color: var(--fill-color);\n",
              "    animation:\n",
              "      spin 1s steps(1) infinite;\n",
              "  }\n",
              "\n",
              "  @keyframes spin {\n",
              "    0% {\n",
              "      border-color: transparent;\n",
              "      border-bottom-color: var(--fill-color);\n",
              "      border-left-color: var(--fill-color);\n",
              "    }\n",
              "    20% {\n",
              "      border-color: transparent;\n",
              "      border-left-color: var(--fill-color);\n",
              "      border-top-color: var(--fill-color);\n",
              "    }\n",
              "    30% {\n",
              "      border-color: transparent;\n",
              "      border-left-color: var(--fill-color);\n",
              "      border-top-color: var(--fill-color);\n",
              "      border-right-color: var(--fill-color);\n",
              "    }\n",
              "    40% {\n",
              "      border-color: transparent;\n",
              "      border-right-color: var(--fill-color);\n",
              "      border-top-color: var(--fill-color);\n",
              "    }\n",
              "    60% {\n",
              "      border-color: transparent;\n",
              "      border-right-color: var(--fill-color);\n",
              "    }\n",
              "    80% {\n",
              "      border-color: transparent;\n",
              "      border-right-color: var(--fill-color);\n",
              "      border-bottom-color: var(--fill-color);\n",
              "    }\n",
              "    90% {\n",
              "      border-color: transparent;\n",
              "      border-bottom-color: var(--fill-color);\n",
              "    }\n",
              "  }\n",
              "</style>\n",
              "\n",
              "      <script>\n",
              "        async function quickchart(key) {\n",
              "          const quickchartButtonEl =\n",
              "            document.querySelector('#' + key + ' button');\n",
              "          quickchartButtonEl.disabled = true;  // To prevent multiple clicks.\n",
              "          quickchartButtonEl.classList.add('colab-df-spinner');\n",
              "          try {\n",
              "            const charts = await google.colab.kernel.invokeFunction(\n",
              "                'suggestCharts', [key], {});\n",
              "          } catch (error) {\n",
              "            console.error('Error during call to suggestCharts:', error);\n",
              "          }\n",
              "          quickchartButtonEl.classList.remove('colab-df-spinner');\n",
              "          quickchartButtonEl.classList.add('colab-df-quickchart-complete');\n",
              "        }\n",
              "        (() => {\n",
              "          let quickchartButtonEl =\n",
              "            document.querySelector('#df-d49e278f-c537-48ac-9bc6-430fa32fdd30 button');\n",
              "          quickchartButtonEl.style.display =\n",
              "            google.colab.kernel.accessAllowed ? 'block' : 'none';\n",
              "        })();\n",
              "      </script>\n",
              "    </div>\n",
              "\n",
              "  <div id=\"id_ff5886be-9030-4cea-bc46-136468662ecd\">\n",
              "    <style>\n",
              "      .colab-df-generate {\n",
              "        background-color: #E8F0FE;\n",
              "        border: none;\n",
              "        border-radius: 50%;\n",
              "        cursor: pointer;\n",
              "        display: none;\n",
              "        fill: #1967D2;\n",
              "        height: 32px;\n",
              "        padding: 0 0 0 0;\n",
              "        width: 32px;\n",
              "      }\n",
              "\n",
              "      .colab-df-generate:hover {\n",
              "        background-color: #E2EBFA;\n",
              "        box-shadow: 0px 1px 2px rgba(60, 64, 67, 0.3), 0px 1px 3px 1px rgba(60, 64, 67, 0.15);\n",
              "        fill: #174EA6;\n",
              "      }\n",
              "\n",
              "      [theme=dark] .colab-df-generate {\n",
              "        background-color: #3B4455;\n",
              "        fill: #D2E3FC;\n",
              "      }\n",
              "\n",
              "      [theme=dark] .colab-df-generate:hover {\n",
              "        background-color: #434B5C;\n",
              "        box-shadow: 0px 1px 3px 1px rgba(0, 0, 0, 0.15);\n",
              "        filter: drop-shadow(0px 1px 2px rgba(0, 0, 0, 0.3));\n",
              "        fill: #FFFFFF;\n",
              "      }\n",
              "    </style>\n",
              "    <button class=\"colab-df-generate\" onclick=\"generateWithVariable('data_matrix')\"\n",
              "            title=\"Generate code using this dataframe.\"\n",
              "            style=\"display:none;\">\n",
              "\n",
              "  <svg xmlns=\"http://www.w3.org/2000/svg\" height=\"24px\"viewBox=\"0 0 24 24\"\n",
              "       width=\"24px\">\n",
              "    <path d=\"M7,19H8.4L18.45,9,17,7.55,7,17.6ZM5,21V16.75L18.45,3.32a2,2,0,0,1,2.83,0l1.4,1.43a1.91,1.91,0,0,1,.58,1.4,1.91,1.91,0,0,1-.58,1.4L9.25,21ZM18.45,9,17,7.55Zm-12,3A5.31,5.31,0,0,0,4.9,8.1,5.31,5.31,0,0,0,1,6.5,5.31,5.31,0,0,0,4.9,4.9,5.31,5.31,0,0,0,6.5,1,5.31,5.31,0,0,0,8.1,4.9,5.31,5.31,0,0,0,12,6.5,5.46,5.46,0,0,0,6.5,12Z\"/>\n",
              "  </svg>\n",
              "    </button>\n",
              "    <script>\n",
              "      (() => {\n",
              "      const buttonEl =\n",
              "        document.querySelector('#id_ff5886be-9030-4cea-bc46-136468662ecd button.colab-df-generate');\n",
              "      buttonEl.style.display =\n",
              "        google.colab.kernel.accessAllowed ? 'block' : 'none';\n",
              "\n",
              "      buttonEl.onclick = () => {\n",
              "        google.colab.notebook.generateWithVariable('data_matrix');\n",
              "      }\n",
              "      })();\n",
              "    </script>\n",
              "  </div>\n",
              "\n",
              "    </div>\n",
              "  </div>\n"
            ],
            "application/vnd.google.colaboratory.intrinsic+json": {
              "type": "dataframe",
              "variable_name": "data_matrix",
              "summary": "{\n  \"name\": \"data_matrix\",\n  \"rows\": 20,\n  \"fields\": [\n    {\n      \"column\": \"a\",\n      \"properties\": {\n        \"dtype\": \"number\",\n        \"std\": 0.33296560169723904,\n        \"min\": 1.0127563995569469,\n        \"max\": 1.9945605124546075,\n        \"num_unique_values\": 20,\n        \"samples\": [\n          1.6064040524124037,\n          1.065394545350594,\n          1.4149834507321357\n        ],\n        \"semantic_type\": \"\",\n        \"description\": \"\"\n      }\n    },\n    {\n      \"column\": \"b\",\n      \"properties\": {\n        \"dtype\": \"number\",\n        \"std\": 0.28708177300887133,\n        \"min\": 1.0064327629916696,\n        \"max\": 1.9868555805147072,\n        \"num_unique_values\": 20,\n        \"samples\": [\n          1.886350200192977,\n          1.8720006952224595,\n          1.4725862648926373\n        ],\n        \"semantic_type\": \"\",\n        \"description\": \"\"\n      }\n    },\n    {\n      \"column\": \"c\",\n      \"properties\": {\n        \"dtype\": \"number\",\n        \"std\": 0.3137518817426731,\n        \"min\": 1.0029730411967832,\n        \"max\": 1.9983410936251784,\n        \"num_unique_values\": 20,\n        \"samples\": [\n          1.2862150917876656,\n          1.0261704180980256,\n          1.3804952147633154\n        ],\n        \"semantic_type\": \"\",\n        \"description\": \"\"\n      }\n    },\n    {\n      \"column\": \"d\",\n      \"properties\": {\n        \"dtype\": \"number\",\n        \"std\": 0.33833863868894776,\n        \"min\": 1.003013708281566,\n        \"max\": 1.9487384224804487,\n        \"num_unique_values\": 20,\n        \"samples\": [\n          1.9487384224804487,\n          1.8358738883758967,\n          1.8551598209901106\n        ],\n        \"semantic_type\": \"\",\n        \"description\": \"\"\n      }\n    },\n    {\n      \"column\": \"e\",\n      \"properties\": {\n        \"dtype\": \"number\",\n        \"std\": 0.2696442850422742,\n        \"min\": 1.0119257924528395,\n        \"max\": 1.93898654066287,\n        \"num_unique_values\": 20,\n        \"samples\": [\n          1.885057232900289,\n          1.29449628727222,\n          1.6249515683286408\n        ],\n        \"semantic_type\": \"\",\n        \"description\": \"\"\n      }\n    }\n  ]\n}"
            }
          },
          "metadata": {},
          "execution_count": 23
        }
      ]
    },
    {
      "cell_type": "code",
      "source": [
        "max = 0\n",
        "index = ''\n",
        "for i in data_matrix.columns:\n",
        "  col = data_matrix[i]\n",
        "  std = col.std()\n",
        "  if(std>max):\n",
        "    max = std\n",
        "    index = i\n",
        "print(f\"colum with maximum std is {index} and the maximum value is {max}\")\n",
        "\n",
        "# std_matrix = data_matrix.std()\n",
        "# maxi = std_matrix.max()\n",
        "\n"
      ],
      "metadata": {
        "colab": {
          "base_uri": "https://localhost:8080/"
        },
        "id": "jx1cfPt4ZEtf",
        "outputId": "51f33ae6-1bf7-49e2-8447-eae688a758b4"
      },
      "execution_count": null,
      "outputs": [
        {
          "output_type": "stream",
          "name": "stdout",
          "text": [
            "colum with maximum std is d and the maximum value is 0.33833863868894776\n"
          ]
        }
      ]
    },
    {
      "cell_type": "code",
      "source": [
        "mimimun_mean = data_matrix.mean(axis = 1).min()\n",
        "print(f\"minimum mean is {mimimun_mean}\")"
      ],
      "metadata": {
        "colab": {
          "base_uri": "https://localhost:8080/"
        },
        "id": "JfstVg8NcAv6",
        "outputId": "8bbb3790-31df-4a16-d0c8-c5071a0f2303"
      },
      "execution_count": null,
      "outputs": [
        {
          "output_type": "stream",
          "name": "stdout",
          "text": [
            "minimum mean is 1.2585484604184427\n"
          ]
        }
      ]
    },
    {
      "cell_type": "markdown",
      "source": [
        "# Question 11"
      ],
      "metadata": {
        "id": "1tMPbjvkbpeG"
      }
    },
    {
      "cell_type": "code",
      "source": [
        "\n",
        "data_matrix['f'] = 0\n",
        "for col in data_matrix.select_dtypes(include='number').columns:\n",
        "    if col != 'f':\n",
        "        data_matrix['f'] += data_matrix[col]\n",
        "\n",
        "data_matrix['g'] = np.where(data_matrix['f'] < 8, \"LT8\", \"GT8\")\n",
        "print(data_matrix)\n",
        "\n",
        "df_LT8 = data_matrix[data_matrix['g'] == 'LT8']\n",
        "print('The number of rows where g is LT8:', len(df_LT8))\n",
        "\n",
        "df_GT8 = data_matrix[data_matrix['g'] == 'GT8']\n",
        "print('STD for f where g is GT8:', df_GT8['f'].std())\n",
        "print('STD for f where g is LT8:', df_LT8['f'].std())\n"
      ],
      "metadata": {
        "colab": {
          "base_uri": "https://localhost:8080/"
        },
        "id": "wuSUKwByceuz",
        "outputId": "64010252-f34d-4308-e2db-10fd82656f5d"
      },
      "execution_count": null,
      "outputs": [
        {
          "output_type": "stream",
          "name": "stdout",
          "text": [
            "           a         b         c         d         e         f    g\n",
            "0   1.606404  1.886350  1.286215  1.948738  1.885057  8.612765  GT8\n",
            "1   1.261835  1.489522  1.926146  1.873473  1.468617  8.019594  GT8\n",
            "2   1.012853  1.006433  1.998341  1.571251  1.807250  7.396128  LT8\n",
            "3   1.413873  1.502176  1.852197  1.117332  1.585053  7.470632  LT8\n",
            "4   1.794200  1.971764  1.458622  1.413504  1.076535  7.714625  LT8\n",
            "5   1.592272  1.700263  1.459632  1.003014  1.820414  7.575594  LT8\n",
            "6   1.187416  1.451512  1.377968  1.005182  1.679337  6.701415  LT8\n",
            "7   1.369047  1.504197  1.768788  1.484063  1.236942  7.363037  LT8\n",
            "8   1.994561  1.475498  1.002973  1.054556  1.429251  6.956838  LT8\n",
            "9   1.857848  1.412348  1.280120  1.860308  1.899659  8.310283  GT8\n",
            "10  1.012756  1.924850  1.159674  1.498939  1.433299  7.029518  LT8\n",
            "11  1.050035  1.279375  1.485379  1.772960  1.880353  7.468102  LT8\n",
            "12  1.685162  1.208818  1.138575  1.392185  1.938987  7.363727  LT8\n",
            "13  1.227156  1.515982  1.504054  1.033625  1.011926  6.292742  LT8\n",
            "14  1.595924  1.986856  1.859811  1.757852  1.531866  8.732309  GT8\n",
            "15  1.414983  1.472586  1.380495  1.855160  1.624952  7.748176  LT8\n",
            "16  1.915581  1.487260  1.150757  1.825584  1.569631  7.948812  LT8\n",
            "17  1.065395  1.872001  1.026170  1.835874  1.294496  7.093936  LT8\n",
            "18  1.143704  1.954354  1.876456  1.644882  1.654519  8.273915  GT8\n",
            "19  1.940863  1.965063  1.329124  1.154644  1.659891  8.049585  GT8\n",
            "The number of rows where g is LT8: 14\n",
            "STD for f where g is GT8: 0.2899207095239818\n",
            "STD for f where g is LT8: 0.44290731582811943\n"
          ]
        }
      ]
    },
    {
      "cell_type": "markdown",
      "source": [
        "# Question 12\n"
      ],
      "metadata": {
        "id": "0ePzzZexg8IH"
      }
    },
    {
      "cell_type": "markdown",
      "source": [
        "broadcasting in numpy means that a array is stretched and added to the each element"
      ],
      "metadata": {
        "id": "6in83E29iABE"
      }
    },
    {
      "cell_type": "code",
      "source": [
        "a = np.array([1, 2, 3])\n",
        "\n",
        "b = np.array([[10],\n",
        "              [20],\n",
        "              [30]])\n",
        "result = b + a\n",
        "\n",
        "print(\"a: \", a)\n",
        "print(\"b: \\n\", b)\n",
        "print(\"Result of b + a: \\n\", result)\n"
      ],
      "metadata": {
        "colab": {
          "base_uri": "https://localhost:8080/"
        },
        "id": "Y51S5XfuhAYL",
        "outputId": "47d167dc-0fe9-49c0-eb73-fb33ded0caf2"
      },
      "execution_count": null,
      "outputs": [
        {
          "output_type": "stream",
          "name": "stdout",
          "text": [
            "a:  [1 2 3]\n",
            "b: \n",
            " [[10]\n",
            " [20]\n",
            " [30]]\n",
            "Result of b + a: \n",
            " [[11 12 13]\n",
            " [21 22 23]\n",
            " [31 32 33]]\n"
          ]
        }
      ]
    },
    {
      "cell_type": "markdown",
      "source": [
        "# Question 13"
      ],
      "metadata": {
        "id": "0Gp1WPOti2oS"
      }
    },
    {
      "cell_type": "code",
      "source": [
        "import numpy as np\n",
        "arr = np.random.randint(1,11,(10,1))\n",
        "print(arr)\n",
        "val_min = 20\n",
        "index = 0;\n",
        "for i in range(len(arr)):\n",
        "  if(arr[i]<val_min):\n",
        "    val_min = arr[i]\n",
        "    index = i\n",
        "\n",
        "print(f\"index for minimum value is {index}\")\n",
        "print(arr.argmin())"
      ],
      "metadata": {
        "colab": {
          "base_uri": "https://localhost:8080/"
        },
        "id": "NN1gf5sCi412",
        "outputId": "0d3b3159-ef29-4aaa-c160-43bef13ddbd0"
      },
      "execution_count": 2,
      "outputs": [
        {
          "output_type": "stream",
          "name": "stdout",
          "text": [
            "[[ 5]\n",
            " [ 4]\n",
            " [ 6]\n",
            " [ 5]\n",
            " [ 3]\n",
            " [ 7]\n",
            " [ 7]\n",
            " [ 1]\n",
            " [ 3]\n",
            " [10]]\n",
            "index for minimum value is 7\n",
            "7\n"
          ]
        }
      ]
    }
  ]
}